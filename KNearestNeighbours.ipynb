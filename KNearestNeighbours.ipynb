{
 "cells": [
  {
   "cell_type": "markdown",
   "metadata": {},
   "source": [
    "### Implementing K Nearest Neighbour algorithm on NBA dataset.\n",
    "#### Getting the data."
   ]
  },
  {
   "cell_type": "code",
   "execution_count": 2,
   "metadata": {
    "collapsed": false
   },
   "outputs": [
    {
     "data": {
      "text/html": [
       "<div>\n",
       "<table border=\"1\" class=\"dataframe\">\n",
       "  <thead>\n",
       "    <tr style=\"text-align: right;\">\n",
       "      <th></th>\n",
       "      <th>PLAYER</th>\n",
       "      <th>TEAM</th>\n",
       "      <th>POS</th>\n",
       "      <th>AGE</th>\n",
       "      <th>GP</th>\n",
       "      <th>MPG</th>\n",
       "      <th>MIN%</th>\n",
       "      <th>USG%</th>\n",
       "      <th>TOV</th>\n",
       "      <th>FTA</th>\n",
       "      <th>...</th>\n",
       "      <th>3P%</th>\n",
       "      <th>TS%</th>\n",
       "      <th>PPG</th>\n",
       "      <th>RPG</th>\n",
       "      <th>TRB%</th>\n",
       "      <th>APG</th>\n",
       "      <th>AST%</th>\n",
       "      <th>SPG</th>\n",
       "      <th>BPG</th>\n",
       "      <th>VI</th>\n",
       "    </tr>\n",
       "  </thead>\n",
       "  <tbody>\n",
       "    <tr>\n",
       "      <th>0</th>\n",
       "      <td>Aaron Brooks</td>\n",
       "      <td>Ind</td>\n",
       "      <td>PG</td>\n",
       "      <td>32</td>\n",
       "      <td>46</td>\n",
       "      <td>14.3</td>\n",
       "      <td>29.9</td>\n",
       "      <td>19.6</td>\n",
       "      <td>0.173</td>\n",
       "      <td>29</td>\n",
       "      <td>...</td>\n",
       "      <td>0.337</td>\n",
       "      <td>0.505</td>\n",
       "      <td>5.2</td>\n",
       "      <td>1.1</td>\n",
       "      <td>4.4</td>\n",
       "      <td>2.2</td>\n",
       "      <td>22.5</td>\n",
       "      <td>0.48</td>\n",
       "      <td>0.17</td>\n",
       "      <td>6.5</td>\n",
       "    </tr>\n",
       "    <tr>\n",
       "      <th>1</th>\n",
       "      <td>Aaron Gordon</td>\n",
       "      <td>Orl</td>\n",
       "      <td>SF</td>\n",
       "      <td>21</td>\n",
       "      <td>56</td>\n",
       "      <td>27.6</td>\n",
       "      <td>57.6</td>\n",
       "      <td>19.6</td>\n",
       "      <td>0.091</td>\n",
       "      <td>137</td>\n",
       "      <td>...</td>\n",
       "      <td>0.292</td>\n",
       "      <td>0.503</td>\n",
       "      <td>11.2</td>\n",
       "      <td>4.6</td>\n",
       "      <td>9.1</td>\n",
       "      <td>1.9</td>\n",
       "      <td>11.2</td>\n",
       "      <td>0.75</td>\n",
       "      <td>0.43</td>\n",
       "      <td>6.7</td>\n",
       "    </tr>\n",
       "    <tr>\n",
       "      <th>2</th>\n",
       "      <td>Adreian Payne</td>\n",
       "      <td>Min</td>\n",
       "      <td>PF</td>\n",
       "      <td>25</td>\n",
       "      <td>12</td>\n",
       "      <td>7.7</td>\n",
       "      <td>16.1</td>\n",
       "      <td>25.2</td>\n",
       "      <td>0.133</td>\n",
       "      <td>15</td>\n",
       "      <td>...</td>\n",
       "      <td>0.200</td>\n",
       "      <td>0.526</td>\n",
       "      <td>4.0</td>\n",
       "      <td>1.7</td>\n",
       "      <td>12.6</td>\n",
       "      <td>0.3</td>\n",
       "      <td>6.9</td>\n",
       "      <td>0.42</td>\n",
       "      <td>0.33</td>\n",
       "      <td>6.6</td>\n",
       "    </tr>\n",
       "    <tr>\n",
       "      <th>3</th>\n",
       "      <td>Al Horford</td>\n",
       "      <td>Bos</td>\n",
       "      <td>C</td>\n",
       "      <td>30</td>\n",
       "      <td>45</td>\n",
       "      <td>32.9</td>\n",
       "      <td>68.5</td>\n",
       "      <td>20.6</td>\n",
       "      <td>0.113</td>\n",
       "      <td>88</td>\n",
       "      <td>...</td>\n",
       "      <td>0.351</td>\n",
       "      <td>0.541</td>\n",
       "      <td>14.6</td>\n",
       "      <td>6.6</td>\n",
       "      <td>11.3</td>\n",
       "      <td>4.9</td>\n",
       "      <td>23.7</td>\n",
       "      <td>0.71</td>\n",
       "      <td>1.53</td>\n",
       "      <td>9.5</td>\n",
       "    </tr>\n",
       "  </tbody>\n",
       "</table>\n",
       "<p>4 rows × 24 columns</p>\n",
       "</div>"
      ],
      "text/plain": [
       "          PLAYER TEAM POS  AGE  GP   MPG  MIN%  USG%    TOV  FTA ...     3P%  \\\n",
       "0   Aaron Brooks  Ind  PG   32  46  14.3  29.9  19.6  0.173   29 ...   0.337   \n",
       "1   Aaron Gordon  Orl  SF   21  56  27.6  57.6  19.6  0.091  137 ...   0.292   \n",
       "2  Adreian Payne  Min  PF   25  12   7.7  16.1  25.2  0.133   15 ...   0.200   \n",
       "3     Al Horford  Bos   C   30  45  32.9  68.5  20.6  0.113   88 ...   0.351   \n",
       "\n",
       "     TS%   PPG  RPG  TRB%  APG  AST%   SPG   BPG   VI  \n",
       "0  0.505   5.2  1.1   4.4  2.2  22.5  0.48  0.17  6.5  \n",
       "1  0.503  11.2  4.6   9.1  1.9  11.2  0.75  0.43  6.7  \n",
       "2  0.526   4.0  1.7  12.6  0.3   6.9  0.42  0.33  6.6  \n",
       "3  0.541  14.6  6.6  11.3  4.9  23.7  0.71  1.53  9.5  \n",
       "\n",
       "[4 rows x 24 columns]"
      ]
     },
     "execution_count": 2,
     "metadata": {},
     "output_type": "execute_result"
    }
   ],
   "source": [
    "import pandas as pd\n",
    "\n",
    "nba = pd.read_csv(\"nba_2016.csv\")\n",
    "nba.head(4)"
   ]
  },
  {
   "cell_type": "code",
   "execution_count": 5,
   "metadata": {
    "collapsed": false
   },
   "outputs": [
    {
     "name": "stdout",
     "output_type": "stream",
     "text": [
      "['PLAYER' 'TEAM' 'POS' 'AGE' 'GP' 'MPG' 'MIN%' 'USG%' 'TOV' 'FTA' 'FT%'\n",
      " '2PA' '2P%' '3PA' '3P%' 'TS%' 'PPG' 'RPG' 'TRB%' 'APG' 'AST%' 'SPG' 'BPG'\n",
      " 'VI']\n"
     ]
    }
   ],
   "source": [
    "print(nba.columns.values)"
   ]
  },
  {
   "cell_type": "markdown",
   "metadata": {},
   "source": [
    "### KNN Theory\n",
    "#### KNN is based around the simple idea of predicting unknown values by matching them with most similar known values.\n",
    "#### The similarity can be based on Euclidean Distance between one or more features of the individual data points.\n",
    "#### We will create a function that returns the cummulative euclidean distance between any two rows of the dataframe.\n",
    "#### Here, we will use LeBron James as the reference and find players that have 'similar' statistics as him. \n",
    "#### The resulting distance will be stored in the Pandas Series 'lebron_distance'."
   ]
  },
  {
   "cell_type": "code",
   "execution_count": 8,
   "metadata": {
    "collapsed": true
   },
   "outputs": [],
   "source": [
    "selected_player = nba[nba[\"PLAYER\"]==\"LeBron James\"].iloc[0]\n",
    "distance_columns = ['AGE','GP','MPG','MIN%','USG%','TOV','FTA','FT%','2PA','2P%','3PA','3P%','TS%','PPG','RPG','TRB%','APG','AST%','SPG','BPG','VI']\n",
    "\n",
    "import math\n",
    "\n",
    "def euclidean_distance(row):\n",
    "    inner_value = 0\n",
    "    for k in distance_columns:\n",
    "        inner_value += (row[k] - selected_player[k]) ** 2\n",
    "    return math.sqrt(inner_value)\n",
    "\n",
    "lebron_distance = nba.apply(euclidean_distance, axis = 1)"
   ]
  },
  {
   "cell_type": "code",
   "execution_count": 10,
   "metadata": {
    "collapsed": false
   },
   "outputs": [
    {
     "name": "stdout",
     "output_type": "stream",
     "text": [
      "0    679.595620\n",
      "1    403.797763\n",
      "2    792.267875\n",
      "3    427.299678\n",
      "4    464.581224\n",
      "dtype: float64\n"
     ]
    }
   ],
   "source": [
    "print(lebron_distance.head(5))"
   ]
  },
  {
   "cell_type": "markdown",
   "metadata": {},
   "source": [
    "### Normalizing Columns\n",
    "#### Some attributes of the players might have greater significance in them being similar to LeBron James.\n",
    "#### But some attributes by default have larger values and will have greater effect on the outcome than others by sheer size.\n",
    "#### In order to avoid this, we will normalize the columns.\n",
    "#### We will keep the mean of 0 and a Standard Deviation of 1.\n",
    "#### Normalized values will be stored in dataframe 'nba_normalized'."
   ]
  },
  {
   "cell_type": "code",
   "execution_count": 12,
   "metadata": {
    "collapsed": true
   },
   "outputs": [],
   "source": [
    "nba_numeric = nba[distance_columns]\n",
    "\n",
    "nba_pass = nba_numeric - nba_numeric.mean()\n",
    "nba_normalized = nba_pass / nba_numeric.std()"
   ]
  },
  {
   "cell_type": "markdown",
   "metadata": {},
   "source": [
    "### Finding Nearest Neighbour\n",
    "#### We can easily find nearest neighbours using distance.euclidean function from scipy.spatial library.\n",
    "#### It is much faster and efficient than manually finding distance."
   ]
  },
  {
   "cell_type": "code",
   "execution_count": 18,
   "metadata": {
    "collapsed": false
   },
   "outputs": [
    {
     "name": "stdout",
     "output_type": "stream",
     "text": [
      "Eric Bledsoe\n"
     ]
    }
   ],
   "source": [
    "from scipy.spatial import distance\n",
    "\n",
    "nba_normalized.fillna(0, inplace=True)\n",
    "\n",
    "lebron_normalized = nba_normalized[nba['PLAYER'] == 'LeBron James']\n",
    "\n",
    "euclidean_distances = nba_normalized.apply(lambda row: distance.euclidean(row, lebron_normalized), axis = 1)\n",
    "\n",
    "distance_frame = pd.DataFrame(data={\"dist\":euclidean_distances, \"idx\":euclidean_distances.index})\n",
    "distance_frame.sort_values(\"dist\",inplace = True)\n",
    "second_smallest = distance_frame.iloc[1]['idx']\n",
    "most_similar_to_lebron = nba.loc[int(second_smallest)][\"PLAYER\"]\n",
    "print(most_similar_to_lebron)"
   ]
  },
  {
   "cell_type": "markdown",
   "metadata": {},
   "source": [
    "### Generating Training and Test Sets\n",
    "#### We can now perform predictions by using training and test sets.\n",
    "#### First, we create Training and Test sets."
   ]
  },
  {
   "cell_type": "code",
   "execution_count": 21,
   "metadata": {
    "collapsed": false
   },
   "outputs": [],
   "source": [
    "import random\n",
    "from numpy.random import permutation\n",
    "\n",
    "#Random shuffle of the dataset\n",
    "random_indices = permutation(nba.index)\n",
    "\n",
    "# Cutoff for how many items we want in training and test set\n",
    "test_cutoff = math.floor(len(nba)/3)\n",
    "\n",
    "# Generate test set by taking first 1/3 of the randomly shuffled indices.\n",
    "test = nba.loc[random_indices[1:test_cutoff]]\n",
    "\n",
    "# Generate train set with rest of the data\n",
    "train = nba.loc[random_indices[test_cutoff:]]"
   ]
  },
  {
   "cell_type": "markdown",
   "metadata": {},
   "source": [
    "### Using Scikit-learn\n",
    "#### We will now use scikit-learn's implementation of KNN.\n",
    "#### Normalization and Distance finding are done automatically."
   ]
  },
  {
   "cell_type": "code",
   "execution_count": 24,
   "metadata": {
    "collapsed": false
   },
   "outputs": [],
   "source": [
    "# The columns we will be making predictions with\n",
    "x_columns = ['AGE','GP','MPG','MIN%','USG%','TOV','FTA','FT%','2PA','2P%','3PA','3P%','TS%','RPG','TRB%','APG','AST%','SPG','BPG','VI']\n",
    "\n",
    "# The column we wangt to predict\n",
    "y_column = [\"PPG\"]\n",
    "\n",
    "from sklearn.neighbors import KNeighborsRegressor\n",
    "\n",
    "# Creating the model\n",
    "knn = KNeighborsRegressor(n_neighbors=5)\n",
    "\n",
    "# Fit model on Training data\n",
    "knn.fit(train[x_columns],train[y_column])\n",
    "\n",
    "# Make predictions on test set using fit model\n",
    "predictions = knn.predict(test[x_columns])"
   ]
  },
  {
   "cell_type": "markdown",
   "metadata": {},
   "source": [
    "### Computing Error\n",
    "#### After makiing predictions, we can compute the error involved.\n",
    "#### We will use the mean squared error to see how accurate we are."
   ]
  },
  {
   "cell_type": "code",
   "execution_count": 28,
   "metadata": {
    "collapsed": false
   },
   "outputs": [
    {
     "name": "stdout",
     "output_type": "stream",
     "text": [
      "PPG    2.94147\n",
      "dtype: float64\n"
     ]
    }
   ],
   "source": [
    "actual = test[y_column]\n",
    "\n",
    "mse = (((predictions - actual) ** 2).sum()) / len(predictions)\n",
    "print(mse)"
   ]
  },
  {
   "cell_type": "markdown",
   "metadata": {},
   "source": [
    "### Conclusion\n",
    "#### Using K Nearest Neighbours algorithm, we predicted the 'points per game' with an error of approximately 3. "
   ]
  },
  {
   "cell_type": "code",
   "execution_count": null,
   "metadata": {
    "collapsed": true
   },
   "outputs": [],
   "source": []
  }
 ],
 "metadata": {
  "kernelspec": {
   "display_name": "Python [default]",
   "language": "python",
   "name": "python3"
  },
  "language_info": {
   "codemirror_mode": {
    "name": "ipython",
    "version": 3
   },
   "file_extension": ".py",
   "mimetype": "text/x-python",
   "name": "python",
   "nbconvert_exporter": "python",
   "pygments_lexer": "ipython3",
   "version": "3.5.2"
  }
 },
 "nbformat": 4,
 "nbformat_minor": 1
}
